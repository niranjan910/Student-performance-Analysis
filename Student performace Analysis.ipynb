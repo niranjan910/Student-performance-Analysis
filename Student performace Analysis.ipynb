{
 "cells": [
  {
   "cell_type": "markdown",
   "id": "1a84156c-b28a-452b-989e-cf4d50ceebfc",
   "metadata": {},
   "source": [
    "## *Student performance Analysis*\n",
    "Student performance Analysis: Uncovering the Drivers of Student Success Through Data\n",
    "\n",
    "### *Tools Used* \n",
    "Python, Pandas, Matplotlib, Seaborn.\n",
    "\t\n",
    "### *Description* \n",
    "An end-to-end data analytics project using a curated dataset of student profiles to uncover academic performance drivers, identify at-risk students, analyze study habits, attendance patterns, and parental involvement to guide targeted interventions and improve educational outcomes.\n",
    "\n",
    "### *Business Problem*\n",
    "In today's education system, multiple factors such as study habits, attendance, parental involvement, and demographic backgrounds significantly impact student performance. The school board has collected extensive data from various schools to uncover these patterns.\n",
    "\n",
    "The core business challenge is to identify the key drivers of student performance and detect students at risk of underperforming. This insight will enable the school district to take proactive and data-driven decisions to enhance learning outcomes and support vulnerable students effectively.\n",
    "\n",
    "The ultimate goal is to translate raw educational data into actionable strategies that improve student achievement, drive better academic support programs, and optimize resource allocation.\n",
    "\n",
    "\n",
    "- *Author* - *Niranjan (Data Analyst)*"
   ]
  },
  {
   "cell_type": "markdown",
   "id": "fe8f737d-b1f0-4c9d-9357-a72dbd34af2f",
   "metadata": {},
   "source": [
    "### *Environmental Setup*"
   ]
  },
  {
   "cell_type": "code",
   "execution_count": 1,
   "id": "367be3b8-768b-4cce-ab2a-66673d173816",
   "metadata": {},
   "outputs": [],
   "source": [
    "import pandas as pd\n",
    "import numpy as np\n",
    "import seaborn as sns\n",
    "import matplotlib.pyplot as plt\n",
    "import warnings\n",
    "warnings.filterwarnings(\"ignore\")"
   ]
  },
  {
   "cell_type": "markdown",
   "id": "f1654bd7-f75f-4266-baf3-4afe4be50b50",
   "metadata": {},
   "source": [
    "### *Loading Data*"
   ]
  },
  {
   "cell_type": "code",
   "execution_count": 2,
   "id": "69859ca6-00da-43b5-bc7a-ac3dd54b3eeb",
   "metadata": {},
   "outputs": [],
   "source": [
    "df = pd.read_csv(\"StudentPerformance.csv\")"
   ]
  },
  {
   "cell_type": "markdown",
   "id": "9b1626fc-7188-4fe7-a36d-7d9c33e493cb",
   "metadata": {},
   "source": [
    "### *Data Understanding*"
   ]
  },
  {
   "cell_type": "code",
   "execution_count": 3,
   "id": "00c1c320-dc1f-456d-963c-e6e8a64740d1",
   "metadata": {},
   "outputs": [
    {
     "data": {
      "text/plain": [
       "(6607, 20)"
      ]
     },
     "execution_count": 3,
     "metadata": {},
     "output_type": "execute_result"
    }
   ],
   "source": [
    "df.shape"
   ]
  },
  {
   "cell_type": "code",
   "execution_count": 4,
   "id": "610a0ce8-184e-4487-bb38-da070e16adfd",
   "metadata": {},
   "outputs": [
    {
     "name": "stdout",
     "output_type": "stream",
     "text": [
      "<class 'pandas.core.frame.DataFrame'>\n",
      "RangeIndex: 6607 entries, 0 to 6606\n",
      "Data columns (total 20 columns):\n",
      " #   Column                      Non-Null Count  Dtype \n",
      "---  ------                      --------------  ----- \n",
      " 0   Hours_Studied               6607 non-null   int64 \n",
      " 1   Attendance                  6607 non-null   int64 \n",
      " 2   Parental_Involvement        6607 non-null   object\n",
      " 3   Access_to_Resources         6607 non-null   object\n",
      " 4   Extracurricular_Activities  6607 non-null   object\n",
      " 5   Sleep_Hours                 6607 non-null   int64 \n",
      " 6   Previous_Scores             6607 non-null   int64 \n",
      " 7   Motivation_Level            6607 non-null   object\n",
      " 8   Internet_Access             6607 non-null   object\n",
      " 9   Tutoring_Sessions           6607 non-null   int64 \n",
      " 10  Family_Income               6607 non-null   object\n",
      " 11  Teacher_Quality             6529 non-null   object\n",
      " 12  School_Type                 6607 non-null   object\n",
      " 13  Peer_Influence              6607 non-null   object\n",
      " 14  Physical_Activity           6607 non-null   int64 \n",
      " 15  Learning_Disabilities       6607 non-null   object\n",
      " 16  Parental_Education_Level    6517 non-null   object\n",
      " 17  Distance_from_Home          6540 non-null   object\n",
      " 18  Gender                      6607 non-null   object\n",
      " 19  Exam_Score                  6607 non-null   int64 \n",
      "dtypes: int64(7), object(13)\n",
      "memory usage: 1.0+ MB\n"
     ]
    }
   ],
   "source": [
    "df.info()"
   ]
  },
  {
   "cell_type": "code",
   "execution_count": 5,
   "id": "f5d2ca54-83bf-400e-9c0e-f078b0d00259",
   "metadata": {},
   "outputs": [
    {
     "data": {
      "text/plain": [
       "['Hours_Studied',\n",
       " 'Attendance',\n",
       " 'Parental_Involvement',\n",
       " 'Access_to_Resources',\n",
       " 'Extracurricular_Activities',\n",
       " 'Sleep_Hours',\n",
       " 'Previous_Scores',\n",
       " 'Motivation_Level',\n",
       " 'Internet_Access',\n",
       " 'Tutoring_Sessions',\n",
       " 'Family_Income',\n",
       " 'Teacher_Quality',\n",
       " 'School_Type',\n",
       " 'Peer_Influence',\n",
       " 'Physical_Activity',\n",
       " 'Learning_Disabilities',\n",
       " 'Parental_Education_Level',\n",
       " 'Distance_from_Home',\n",
       " 'Gender',\n",
       " 'Exam_Score']"
      ]
     },
     "execution_count": 5,
     "metadata": {},
     "output_type": "execute_result"
    }
   ],
   "source": [
    "df.columns.tolist()"
   ]
  },
  {
   "cell_type": "code",
   "execution_count": 6,
   "id": "c90ae034-6de0-4108-9eda-d035f9bd7dd3",
   "metadata": {},
   "outputs": [
    {
     "data": {
      "text/html": [
       "<div>\n",
       "<style scoped>\n",
       "    .dataframe tbody tr th:only-of-type {\n",
       "        vertical-align: middle;\n",
       "    }\n",
       "\n",
       "    .dataframe tbody tr th {\n",
       "        vertical-align: top;\n",
       "    }\n",
       "\n",
       "    .dataframe thead th {\n",
       "        text-align: right;\n",
       "    }\n",
       "</style>\n",
       "<table border=\"1\" class=\"dataframe\">\n",
       "  <thead>\n",
       "    <tr style=\"text-align: right;\">\n",
       "      <th></th>\n",
       "      <th>Hours_Studied</th>\n",
       "      <th>Attendance</th>\n",
       "      <th>Parental_Involvement</th>\n",
       "      <th>Access_to_Resources</th>\n",
       "      <th>Extracurricular_Activities</th>\n",
       "      <th>Sleep_Hours</th>\n",
       "      <th>Previous_Scores</th>\n",
       "      <th>Motivation_Level</th>\n",
       "      <th>Internet_Access</th>\n",
       "      <th>Tutoring_Sessions</th>\n",
       "      <th>Family_Income</th>\n",
       "      <th>Teacher_Quality</th>\n",
       "      <th>School_Type</th>\n",
       "      <th>Peer_Influence</th>\n",
       "      <th>Physical_Activity</th>\n",
       "      <th>Learning_Disabilities</th>\n",
       "      <th>Parental_Education_Level</th>\n",
       "      <th>Distance_from_Home</th>\n",
       "      <th>Gender</th>\n",
       "      <th>Exam_Score</th>\n",
       "    </tr>\n",
       "  </thead>\n",
       "  <tbody>\n",
       "    <tr>\n",
       "      <th>0</th>\n",
       "      <td>23</td>\n",
       "      <td>84</td>\n",
       "      <td>Low</td>\n",
       "      <td>High</td>\n",
       "      <td>No</td>\n",
       "      <td>7</td>\n",
       "      <td>73</td>\n",
       "      <td>Low</td>\n",
       "      <td>Yes</td>\n",
       "      <td>0</td>\n",
       "      <td>Low</td>\n",
       "      <td>Medium</td>\n",
       "      <td>Public</td>\n",
       "      <td>Positive</td>\n",
       "      <td>3</td>\n",
       "      <td>No</td>\n",
       "      <td>High School</td>\n",
       "      <td>Near</td>\n",
       "      <td>Male</td>\n",
       "      <td>67</td>\n",
       "    </tr>\n",
       "    <tr>\n",
       "      <th>1</th>\n",
       "      <td>19</td>\n",
       "      <td>64</td>\n",
       "      <td>Low</td>\n",
       "      <td>Medium</td>\n",
       "      <td>No</td>\n",
       "      <td>8</td>\n",
       "      <td>59</td>\n",
       "      <td>Low</td>\n",
       "      <td>Yes</td>\n",
       "      <td>2</td>\n",
       "      <td>Medium</td>\n",
       "      <td>Medium</td>\n",
       "      <td>Public</td>\n",
       "      <td>Negative</td>\n",
       "      <td>4</td>\n",
       "      <td>No</td>\n",
       "      <td>College</td>\n",
       "      <td>Moderate</td>\n",
       "      <td>Female</td>\n",
       "      <td>61</td>\n",
       "    </tr>\n",
       "    <tr>\n",
       "      <th>2</th>\n",
       "      <td>24</td>\n",
       "      <td>98</td>\n",
       "      <td>Medium</td>\n",
       "      <td>Medium</td>\n",
       "      <td>Yes</td>\n",
       "      <td>7</td>\n",
       "      <td>91</td>\n",
       "      <td>Medium</td>\n",
       "      <td>Yes</td>\n",
       "      <td>2</td>\n",
       "      <td>Medium</td>\n",
       "      <td>Medium</td>\n",
       "      <td>Public</td>\n",
       "      <td>Neutral</td>\n",
       "      <td>4</td>\n",
       "      <td>No</td>\n",
       "      <td>Postgraduate</td>\n",
       "      <td>Near</td>\n",
       "      <td>Male</td>\n",
       "      <td>74</td>\n",
       "    </tr>\n",
       "  </tbody>\n",
       "</table>\n",
       "</div>"
      ],
      "text/plain": [
       "   Hours_Studied  Attendance Parental_Involvement Access_to_Resources  \\\n",
       "0             23          84                  Low                High   \n",
       "1             19          64                  Low              Medium   \n",
       "2             24          98               Medium              Medium   \n",
       "\n",
       "  Extracurricular_Activities  Sleep_Hours  Previous_Scores Motivation_Level  \\\n",
       "0                         No            7               73              Low   \n",
       "1                         No            8               59              Low   \n",
       "2                        Yes            7               91           Medium   \n",
       "\n",
       "  Internet_Access  Tutoring_Sessions Family_Income Teacher_Quality  \\\n",
       "0             Yes                  0           Low          Medium   \n",
       "1             Yes                  2        Medium          Medium   \n",
       "2             Yes                  2        Medium          Medium   \n",
       "\n",
       "  School_Type Peer_Influence  Physical_Activity Learning_Disabilities  \\\n",
       "0      Public       Positive                  3                    No   \n",
       "1      Public       Negative                  4                    No   \n",
       "2      Public        Neutral                  4                    No   \n",
       "\n",
       "  Parental_Education_Level Distance_from_Home  Gender  Exam_Score  \n",
       "0              High School               Near    Male          67  \n",
       "1                  College           Moderate  Female          61  \n",
       "2             Postgraduate               Near    Male          74  "
      ]
     },
     "execution_count": 6,
     "metadata": {},
     "output_type": "execute_result"
    }
   ],
   "source": [
    "df.head(3)"
   ]
  },
  {
   "cell_type": "code",
   "execution_count": 7,
   "id": "02571733-cbdb-4394-a3ca-943c9ab2a774",
   "metadata": {},
   "outputs": [
    {
     "data": {
      "text/plain": [
       "0"
      ]
     },
     "execution_count": 7,
     "metadata": {},
     "output_type": "execute_result"
    }
   ],
   "source": [
    "df.duplicated().sum()"
   ]
  },
  {
   "cell_type": "code",
   "execution_count": 8,
   "id": "b5d4e2de-a1a9-4236-a978-9f6af4a61db5",
   "metadata": {},
   "outputs": [
    {
     "data": {
      "text/plain": [
       "Hours_Studied                  0\n",
       "Attendance                     0\n",
       "Parental_Involvement           0\n",
       "Access_to_Resources            0\n",
       "Extracurricular_Activities     0\n",
       "Sleep_Hours                    0\n",
       "Previous_Scores                0\n",
       "Motivation_Level               0\n",
       "Internet_Access                0\n",
       "Tutoring_Sessions              0\n",
       "Family_Income                  0\n",
       "Teacher_Quality               78\n",
       "School_Type                    0\n",
       "Peer_Influence                 0\n",
       "Physical_Activity              0\n",
       "Learning_Disabilities          0\n",
       "Parental_Education_Level      90\n",
       "Distance_from_Home            67\n",
       "Gender                         0\n",
       "Exam_Score                     0\n",
       "dtype: int64"
      ]
     },
     "execution_count": 8,
     "metadata": {},
     "output_type": "execute_result"
    }
   ],
   "source": [
    "df.isna().sum()"
   ]
  },
  {
   "cell_type": "markdown",
   "id": "c1e38825-28d9-4def-bd12-d79fa7ef3d1b",
   "metadata": {},
   "source": [
    "### *Data Exploration*"
   ]
  },
  {
   "cell_type": "code",
   "execution_count": 9,
   "id": "60eacf45-221f-4d69-9536-e4918c618da6",
   "metadata": {},
   "outputs": [
    {
     "data": {
      "text/plain": [
       "array([23, 19, 24, 29, 25, 17, 21,  9, 10, 14, 22, 15, 12, 20, 11, 13, 16,\n",
       "       18, 31,  8, 26, 28,  4, 35, 27, 33, 36, 43, 34,  1, 30,  7, 32,  6,\n",
       "       38,  5,  3,  2, 39, 37, 44], dtype=int64)"
      ]
     },
     "execution_count": 9,
     "metadata": {},
     "output_type": "execute_result"
    }
   ],
   "source": [
    "df[\"Hours_Studied\"].unique()"
   ]
  },
  {
   "cell_type": "code",
   "execution_count": 10,
   "id": "11407158-e6aa-40fe-a061-332044c4cf76",
   "metadata": {},
   "outputs": [
    {
     "data": {
      "text/plain": [
       "Hours_Studied\n",
       "20    465\n",
       "19    441\n",
       "21    431\n",
       "23    411\n",
       "22    402\n",
       "18    401\n",
       "17    381\n",
       "24    357\n",
       "16    351\n",
       "15    315\n",
       "25    289\n",
       "14    269\n",
       "26    263\n",
       "27    229\n",
       "13    218\n",
       "12    192\n",
       "28    171\n",
       "11    146\n",
       "29    134\n",
       "30    123\n",
       "10     94\n",
       "9      86\n",
       "31     77\n",
       "8      58\n",
       "32     54\n",
       "7      51\n",
       "33     40\n",
       "34     29\n",
       "5      21\n",
       "35     20\n",
       "6      17\n",
       "4      17\n",
       "3      12\n",
       "36     11\n",
       "38      7\n",
       "39      7\n",
       "37      6\n",
       "2       6\n",
       "1       3\n",
       "43      1\n",
       "44      1\n",
       "Name: count, dtype: int64"
      ]
     },
     "execution_count": 10,
     "metadata": {},
     "output_type": "execute_result"
    }
   ],
   "source": [
    "df[\"Hours_Studied\"].value_counts()"
   ]
  },
  {
   "cell_type": "code",
   "execution_count": 11,
   "id": "6020d21e-f5ca-4649-832c-f283ac197331",
   "metadata": {},
   "outputs": [
    {
     "data": {
      "text/plain": [
       "array([ 84,  64,  98,  89,  92,  88,  78,  94,  80,  97,  83,  82,  68,\n",
       "        60,  70,  75,  99,  74,  65,  62,  91,  90,  66,  69,  72,  63,\n",
       "        61,  86,  77,  71,  67,  87,  73,  96, 100,  81,  95,  79,  85,\n",
       "        76,  93], dtype=int64)"
      ]
     },
     "execution_count": 11,
     "metadata": {},
     "output_type": "execute_result"
    }
   ],
   "source": [
    "df[\"Attendance\"].unique()"
   ]
  },
  {
   "cell_type": "code",
   "execution_count": 12,
   "id": "1acedfd7-7357-44c3-a7e0-deb4da67e949",
   "metadata": {},
   "outputs": [
    {
     "data": {
      "text/plain": [
       "Attendance\n",
       "67     190\n",
       "98     187\n",
       "76     185\n",
       "77     184\n",
       "64     182\n",
       "94     180\n",
       "84     175\n",
       "79     175\n",
       "91     175\n",
       "82     173\n",
       "68     170\n",
       "69     170\n",
       "80     169\n",
       "81     168\n",
       "96     168\n",
       "73     168\n",
       "93     167\n",
       "72     167\n",
       "74     165\n",
       "78     165\n",
       "61     164\n",
       "95     163\n",
       "89     162\n",
       "71     162\n",
       "97     161\n",
       "70     161\n",
       "65     158\n",
       "83     157\n",
       "90     156\n",
       "88     155\n",
       "63     155\n",
       "99     154\n",
       "92     154\n",
       "62     152\n",
       "86     151\n",
       "87     151\n",
       "75     149\n",
       "85     146\n",
       "66     145\n",
       "60      87\n",
       "100     81\n",
       "Name: count, dtype: int64"
      ]
     },
     "execution_count": 12,
     "metadata": {},
     "output_type": "execute_result"
    }
   ],
   "source": [
    "df[\"Attendance\"].value_counts()"
   ]
  },
  {
   "cell_type": "code",
   "execution_count": 13,
   "id": "dd2cebae-df89-4c90-be92-90592fe456a3",
   "metadata": {},
   "outputs": [
    {
     "data": {
      "text/plain": [
       "<Axes: xlabel='Attendance', ylabel='Count'>"
      ]
     },
     "execution_count": 13,
     "metadata": {},
     "output_type": "execute_result"
    },
    {
     "data": {
      "image/png": "[encoded data removed]",
      "text/plain": [
       "<Figure size 640x480 with 1 Axes>"
      ]
     },
     "metadata": {},
     "output_type": "display_data"
    }
   ],
   "source": [
    "sns.histplot(data = df, x = \"Attendance\")"
   ]
  },
  {
   "cell_type": "code",
   "execution_count": 14,
   "id": "496f48e0-859c-4975-af2f-fad6296b3b5f",
   "metadata": {},
   "outputs": [
    {
     "data": {
      "text/plain": [
       "array(['Low', 'Medium', 'High'], dtype=object)"
      ]
     },
     "execution_count": 14,
     "metadata": {},
     "output_type": "execute_result"
    }
   ],
   "source": [
    "df[\"Parental_Involvement\"].unique()"
   ]
  },
  {
   "cell_type": "code",
   "execution_count": 15,
   "id": "cccfdb2b-1fe2-46bd-96ba-fd3e8449361b",
   "metadata": {},
   "outputs": [
    {
     "data": {
      "text/plain": [
       "Parental_Involvement\n",
       "Medium    3362\n",
       "High      1908\n",
       "Low       1337\n",
       "Name: count, dtype: int64"
      ]
     },
     "execution_count": 15,
     "metadata": {},
     "output_type": "execute_result"
    }
   ],
   "source": [
    "df[\"Parental_Involvement\"].value_counts()"
   ]
  },
  {
   "cell_type": "code",
   "execution_count": 16,
   "id": "f246f5f3-4b54-40fe-b7d7-e3825ab95f6f",
   "metadata": {},
   "outputs": [
    {
     "data": {
      "text/plain": [
       "array(['High', 'Medium', 'Low'], dtype=object)"
      ]
     },
     "execution_count": 16,
     "metadata": {},
     "output_type": "execute_result"
    }
   ],
   "source": [
    "df[\"Access_to_Resources\"].unique()"
   ]
  },
  {
   "cell_type": "code",
   "execution_count": 17,
   "id": "6384afde-c813-4401-b89a-b80294844082",
   "metadata": {},
   "outputs": [
    {
     "data": {
      "text/plain": [
       "Access_to_Resources\n",
       "Medium    3319\n",
       "High      1975\n",
       "Low       1313\n",
       "Name: count, dtype: int64"
      ]
     },
     "execution_count": 17,
     "metadata": {},
     "output_type": "execute_result"
    }
   ],
   "source": [
    "df[\"Access_to_Resources\"].value_counts()"
   ]
  },
  {
   "cell_type": "code",
   "execution_count": 18,
   "id": "1f4c9f7f-3f39-4b36-9644-5d00ea619934",
   "metadata": {},
   "outputs": [
    {
     "data": {
      "text/plain": [
       "array(['No', 'Yes'], dtype=object)"
      ]
     },
     "execution_count": 18,
     "metadata": {},
     "output_type": "execute_result"
    }
   ],
   "source": [
    "df[\"Extracurricular_Activities\"].unique()"
   ]
  },
  {
   "cell_type": "code",
   "execution_count": 19,
   "id": "f0005ca0-94c2-4aa6-bd99-687815d091f8",
   "metadata": {},
   "outputs": [
    {
     "data": {
      "text/plain": [
       "Extracurricular_Activities\n",
       "Yes    3938\n",
       "No     2669\n",
       "Name: count, dtype: int64"
      ]
     },
     "execution_count": 19,
     "metadata": {},
     "output_type": "execute_result"
    }
   ],
   "source": [
    "df[\"Extracurricular_Activities\"].value_counts()"
   ]
  },
  {
   "cell_type": "code",
   "execution_count": 20,
   "id": "49497a8a-50fd-4a8e-998e-4d600dbbd710",
   "metadata": {},
   "outputs": [
    {
     "data": {
      "text/plain": [
       "array([ 7,  8,  6, 10,  9,  5,  4], dtype=int64)"
      ]
     },
     "execution_count": 20,
     "metadata": {},
     "output_type": "execute_result"
    }
   ],
   "source": [
    "df[\"Sleep_Hours\"].unique()"
   ]
  },
  {
   "cell_type": "code",
   "execution_count": 21,
   "id": "35ed36d3-5775-4dcd-9d23-66c3077de9f6",
   "metadata": {},
   "outputs": [
    {
     "data": {
      "text/plain": [
       "Sleep_Hours\n",
       "7     1741\n",
       "8     1399\n",
       "6     1376\n",
       "9      775\n",
       "5      695\n",
       "10     312\n",
       "4      309\n",
       "Name: count, dtype: int64"
      ]
     },
     "execution_count": 21,
     "metadata": {},
     "output_type": "execute_result"
    }
   ],
   "source": [
    "df[\"Sleep_Hours\"].value_counts()"
   ]
  },
  {
   "cell_type": "code",
   "execution_count": 22,
   "id": "c7c08e07-da51-40e3-9634-e3396334ad0c",
   "metadata": {},
   "outputs": [
    {
     "data": {
      "text/plain": [
       "array([ 73,  59,  91,  98,  65,  89,  68,  50,  80,  71,  88,  87,  97,\n",
       "        72,  74,  70,  82,  58,  99,  84, 100,  75,  54,  90,  94,  51,\n",
       "        57,  66,  96,  93,  56,  52,  63,  79,  81,  69,  95,  60,  92,\n",
       "        77,  62,  85,  78,  64,  76,  55,  86,  61,  53,  83,  67],\n",
       "      dtype=int64)"
      ]
     },
     "execution_count": 22,
     "metadata": {},
     "output_type": "execute_result"
    }
   ],
   "source": [
    "df[\"Previous_Scores\"].unique()"
   ]
  },
  {
   "cell_type": "code",
   "execution_count": 23,
   "id": "dcc1390c-d690-4ea7-9470-774a4ff0fe74",
   "metadata": {},
   "outputs": [
    {
     "data": {
      "text/plain": [
       "Previous_Scores\n",
       "66     165\n",
       "94     155\n",
       "96     153\n",
       "85     150\n",
       "71     146\n",
       "53     144\n",
       "59     142\n",
       "82     141\n",
       "76     140\n",
       "88     139\n",
       "73     138\n",
       "86     137\n",
       "65     136\n",
       "54     136\n",
       "52     136\n",
       "91     136\n",
       "70     136\n",
       "63     135\n",
       "67     134\n",
       "74     134\n",
       "80     133\n",
       "75     132\n",
       "68     132\n",
       "64     132\n",
       "98     131\n",
       "89     130\n",
       "78     130\n",
       "69     129\n",
       "93     129\n",
       "95     129\n",
       "79     128\n",
       "92     126\n",
       "51     126\n",
       "57     125\n",
       "83     125\n",
       "99     125\n",
       "87     124\n",
       "62     124\n",
       "55     124\n",
       "81     124\n",
       "61     123\n",
       "90     123\n",
       "77     122\n",
       "84     121\n",
       "60     121\n",
       "58     120\n",
       "56     120\n",
       "72     120\n",
       "97     115\n",
       "100     69\n",
       "50      62\n",
       "Name: count, dtype: int64"
      ]
     },
     "execution_count": 23,
     "metadata": {},
     "output_type": "execute_result"
    }
   ],
   "source": [
    "df[\"Previous_Scores\"].value_counts()"
   ]
  },
  {
   "cell_type": "code",
   "execution_count": 24,
   "id": "cd2a1ef8-d510-4a38-b4ad-8adf1b2b017e",
   "metadata": {},
   "outputs": [
    {
     "data": {
      "text/plain": [
       "<Axes: xlabel='Previous_Scores', ylabel='Count'>"
      ]
     },
     "execution_count": 24,
     "metadata": {},
     "output_type": "execute_result"
    },
    {
     "data": {
      "image/png": "[encoded data removed]",
      "text/plain": [
       "<Figure size 640x480 with 1 Axes>"
      ]
     },
     "metadata": {},
     "output_type": "display_data"
    }
   ],
   "source": [
    "sns.histplot(data = df, x = \"Previous_Scores\" )"
   ]
  },
  {
   "cell_type": "code",
   "execution_count": 25,
   "id": "6f5c478e-d514-4a26-b11a-b2d7b9f9c1cd",
   "metadata": {},
   "outputs": [
    {
     "data": {
      "text/plain": [
       "array(['Low', 'Medium', 'High'], dtype=object)"
      ]
     },
     "execution_count": 25,
     "metadata": {},
     "output_type": "execute_result"
    }
   ],
   "source": [
    "df[\"Motivation_Level\"].unique()"
   ]
  },
  {
   "cell_type": "code",
   "execution_count": 26,
   "id": "3e2797df-c328-4d5a-b6e5-35ec04f63535",
   "metadata": {},
   "outputs": [
    {
     "data": {
      "text/plain": [
       "Motivation_Level\n",
       "Medium    3351\n",
       "Low       1937\n",
       "High      1319\n",
       "Name: count, dtype: int64"
      ]
     },
     "execution_count": 26,
     "metadata": {},
     "output_type": "execute_result"
    }
   ],
   "source": [
    "df[\"Motivation_Level\"].value_counts()"
   ]
  },
  {
   "cell_type": "code",
   "execution_count": 27,
   "id": "a95262fa-921c-48d7-9c64-8a9b683a5e57",
   "metadata": {},
   "outputs": [
    {
     "data": {
      "text/plain": [
       "array(['Yes', 'No'], dtype=object)"
      ]
     },
     "execution_count": 27,
     "metadata": {},
     "output_type": "execute_result"
    }
   ],
   "source": [
    "df[\"Internet_Access\"].unique()"
   ]
  },
  {
   "cell_type": "code",
   "execution_count": 28,
   "id": "d9587731-9340-44fa-b021-73874b92ea0e",
   "metadata": {},
   "outputs": [
    {
     "data": {
      "text/plain": [
       "Internet_Access\n",
       "Yes    6108\n",
       "No      499\n",
       "Name: count, dtype: int64"
      ]
     },
     "execution_count": 28,
     "metadata": {},
     "output_type": "execute_result"
    }
   ],
   "source": [
    "df[\"Internet_Access\"].value_counts()"
   ]
  },
  {
   "cell_type": "code",
   "execution_count": 29,
   "id": "81ff1468-e36b-4940-a3f1-ef37c5488f04",
   "metadata": {},
   "outputs": [
    {
     "data": {
      "text/plain": [
       "array([0, 2, 1, 3, 4, 5, 6, 7, 8], dtype=int64)"
      ]
     },
     "execution_count": 29,
     "metadata": {},
     "output_type": "execute_result"
    }
   ],
   "source": [
    "df[\"Tutoring_Sessions\"].unique()"
   ]
  },
  {
   "cell_type": "code",
   "execution_count": 30,
   "id": "09cc6681-23f3-4710-94d5-bd70a1d09db0",
   "metadata": {},
   "outputs": [
    {
     "data": {
      "text/plain": [
       "Tutoring_Sessions\n",
       "1    2179\n",
       "2    1649\n",
       "0    1513\n",
       "3     836\n",
       "4     301\n",
       "5     103\n",
       "6      18\n",
       "7       7\n",
       "8       1\n",
       "Name: count, dtype: int64"
      ]
     },
     "execution_count": 30,
     "metadata": {},
     "output_type": "execute_result"
    }
   ],
   "source": [
    "df[\"Tutoring_Sessions\"].value_counts()"
   ]
  },
  {
   "cell_type": "code",
   "execution_count": 31,
   "id": "15440284-05d0-4129-a414-45b13f0a8669",
   "metadata": {},
   "outputs": [
    {
     "data": {
      "text/plain": [
       "array(['Low', 'Medium', 'High'], dtype=object)"
      ]
     },
     "execution_count": 31,
     "metadata": {},
     "output_type": "execute_result"
    }
   ],
   "source": [
    "df[\"Family_Income\"].unique()"
   ]
  },
  {
   "cell_type": "code",
   "execution_count": 32,
   "id": "9d8da59e-49e9-46fc-be42-06d86000fa31",
   "metadata": {},
   "outputs": [
    {
     "data": {
      "text/plain": [
       "Family_Income\n",
       "Low       2672\n",
       "Medium    2666\n",
       "High      1269\n",
       "Name: count, dtype: int64"
      ]
     },
     "execution_count": 32,
     "metadata": {},
     "output_type": "execute_result"
    }
   ],
   "source": [
    "df[\"Family_Income\"].value_counts()"
   ]
  },
  {
   "cell_type": "code",
   "execution_count": 33,
   "id": "f59907f3-4343-48b1-b53d-c4dd11060894",
   "metadata": {},
   "outputs": [
    {
     "data": {
      "text/plain": [
       "array(['Medium', 'High', 'Low', nan], dtype=object)"
      ]
     },
     "execution_count": 33,
     "metadata": {},
     "output_type": "execute_result"
    }
   ],
   "source": [
    "df[\"Teacher_Quality\"].unique()"
   ]
  },
  {
   "cell_type": "code",
   "execution_count": 34,
   "id": "e85a3889-506e-49b6-91f8-bf8c39606048",
   "metadata": {},
   "outputs": [
    {
     "data": {
      "text/plain": [
       "Teacher_Quality\n",
       "Medium    3925\n",
       "High      1947\n",
       "Low        657\n",
       "Name: count, dtype: int64"
      ]
     },
     "execution_count": 34,
     "metadata": {},
     "output_type": "execute_result"
    }
   ],
   "source": [
    "df[\"Teacher_Quality\"].value_counts()"
   ]
  },
  {
   "cell_type": "code",
   "execution_count": 35,
   "id": "cad416a9-92ed-469a-87dd-64e7ef6dac7e",
   "metadata": {},
   "outputs": [
    {
     "data": {
      "text/plain": [
       "array(['Public', 'Private'], dtype=object)"
      ]
     },
     "execution_count": 35,
     "metadata": {},
     "output_type": "execute_result"
    }
   ],
   "source": [
    "df[\"School_Type\"].unique()"
   ]
  },
  {
   "cell_type": "code",
   "execution_count": 36,
   "id": "7a884f7f-128c-4d4a-bbc6-89ec58019107",
   "metadata": {},
   "outputs": [
    {
     "data": {
      "text/plain": [
       "School_Type\n",
       "Public     4598\n",
       "Private    2009\n",
       "Name: count, dtype: int64"
      ]
     },
     "execution_count": 36,
     "metadata": {},
     "output_type": "execute_result"
    }
   ],
   "source": [
    "df[\"School_Type\"].value_counts()"
   ]
  },
  {
   "cell_type": "code",
   "execution_count": 37,
   "id": "d8e04ba2-ac10-49e6-8581-16a5c752a05e",
   "metadata": {},
   "outputs": [
    {
     "data": {
      "text/plain": [
       "array(['Positive', 'Negative', 'Neutral'], dtype=object)"
      ]
     },
     "execution_count": 37,
     "metadata": {},
     "output_type": "execute_result"
    }
   ],
   "source": [
    "df[\"Peer_Influence\"].unique()"
   ]
  },
  {
   "cell_type": "code",
   "execution_count": 38,
   "id": "29d852bf-5779-4134-9c52-04ea29a13c73",
   "metadata": {},
   "outputs": [
    {
     "data": {
      "text/plain": [
       "Peer_Influence\n",
       "Positive    2638\n",
       "Neutral     2592\n",
       "Negative    1377\n",
       "Name: count, dtype: int64"
      ]
     },
     "execution_count": 38,
     "metadata": {},
     "output_type": "execute_result"
    }
   ],
   "source": [
    "df[\"Peer_Influence\"].value_counts()"
   ]
  },
  {
   "cell_type": "code",
   "execution_count": 39,
   "id": "f2b240da-f225-4fc4-9d17-93dbf6757fab",
   "metadata": {},
   "outputs": [
    {
     "data": {
      "text/plain": [
       "array([3, 4, 2, 1, 5, 0, 6], dtype=int64)"
      ]
     },
     "execution_count": 39,
     "metadata": {},
     "output_type": "execute_result"
    }
   ],
   "source": [
    "df[\"Physical_Activity\"].unique()"
   ]
  },
  {
   "cell_type": "code",
   "execution_count": 40,
   "id": "ee20f740-1ded-49b4-b5a7-2a05478e840e",
   "metadata": {},
   "outputs": [
    {
     "data": {
      "text/plain": [
       "Physical_Activity\n",
       "3    2545\n",
       "2    1627\n",
       "4    1575\n",
       "1     421\n",
       "5     361\n",
       "0      46\n",
       "6      32\n",
       "Name: count, dtype: int64"
      ]
     },
     "execution_count": 40,
     "metadata": {},
     "output_type": "execute_result"
    }
   ],
   "source": [
    "df[\"Physical_Activity\"].value_counts()"
   ]
  },
  {
   "cell_type": "code",
   "execution_count": 41,
   "id": "76aa7879-62ed-454a-b025-1d19ac667a84",
   "metadata": {},
   "outputs": [
    {
     "data": {
      "text/plain": [
       "array(['No', 'Yes'], dtype=object)"
      ]
     },
     "execution_count": 41,
     "metadata": {},
     "output_type": "execute_result"
    }
   ],
   "source": [
    "df[\"Learning_Disabilities\"].unique()"
   ]
  },
  {
   "cell_type": "code",
   "execution_count": 42,
   "id": "08e07336-6b6b-417a-85a2-9dd48e4767d0",
   "metadata": {},
   "outputs": [
    {
     "data": {
      "text/plain": [
       "Learning_Disabilities\n",
       "No     5912\n",
       "Yes     695\n",
       "Name: count, dtype: int64"
      ]
     },
     "execution_count": 42,
     "metadata": {},
     "output_type": "execute_result"
    }
   ],
   "source": [
    "df[\"Learning_Disabilities\"].value_counts()"
   ]
  },
  {
   "cell_type": "code",
   "execution_count": 43,
   "id": "4287b09b-61e5-4873-a385-4cf9a8af8dd3",
   "metadata": {},
   "outputs": [
    {
     "data": {
      "text/plain": [
       "array(['High School', 'College', 'Postgraduate', nan], dtype=object)"
      ]
     },
     "execution_count": 43,
     "metadata": {},
     "output_type": "execute_result"
    }
   ],
   "source": [
    "df[\"Parental_Education_Level\"].unique()"
   ]
  },
  {
   "cell_type": "code",
   "execution_count": 44,
   "id": "1b9254ce-f67f-4101-93f9-850d09488aa5",
   "metadata": {},
   "outputs": [
    {
     "data": {
      "text/plain": [
       "Parental_Education_Level\n",
       "High School     3223\n",
       "College         1989\n",
       "Postgraduate    1305\n",
       "Name: count, dtype: int64"
      ]
     },
     "execution_count": 44,
     "metadata": {},
     "output_type": "execute_result"
    }
   ],
   "source": [
    "df[\"Parental_Education_Level\"].value_counts()"
   ]
  },
  {
   "cell_type": "code",
   "execution_count": 45,
   "id": "9ba04c34-acc5-4fdb-9de7-ce3abd069577",
   "metadata": {},
   "outputs": [
    {
     "data": {
      "text/plain": [
       "array(['Near', 'Moderate', 'Far', nan], dtype=object)"
      ]
     },
     "execution_count": 45,
     "metadata": {},
     "output_type": "execute_result"
    }
   ],
   "source": [
    "df[\"Distance_from_Home\"].unique()"
   ]
  },
  {
   "cell_type": "code",
   "execution_count": 46,
   "id": "f6b58bec-27c2-44eb-97f6-6979e93fd422",
   "metadata": {},
   "outputs": [
    {
     "data": {
      "text/plain": [
       "Distance_from_Home\n",
       "Near        3884\n",
       "Moderate    1998\n",
       "Far          658\n",
       "Name: count, dtype: int64"
      ]
     },
     "execution_count": 46,
     "metadata": {},
     "output_type": "execute_result"
    }
   ],
   "source": [
    "df[\"Distance_from_Home\"].value_counts()"
   ]
  },
  {
   "cell_type": "code",
   "execution_count": 47,
   "id": "9b5cd8cc-1a60-4b96-9d70-631ebeb8f129",
   "metadata": {},
   "outputs": [
    {
     "data": {
      "text/plain": [
       "array(['Male', 'Female'], dtype=object)"
      ]
     },
     "execution_count": 47,
     "metadata": {},
     "output_type": "execute_result"
    }
   ],
   "source": [
    "df[\"Gender\"].unique()"
   ]
  },
  {
   "cell_type": "code",
   "execution_count": 48,
   "id": "a1c4d469-5e31-49a7-9f73-5672e2dcc836",
   "metadata": {},
   "outputs": [
    {
     "data": {
      "text/plain": [
       "Gender\n",
       "Male      3814\n",
       "Female    2793\n",
       "Name: count, dtype: int64"
      ]
     },
     "execution_count": 48,
     "metadata": {},
     "output_type": "execute_result"
    }
   ],
   "source": [
    "df[\"Gender\"].value_counts()"
   ]
  },
  {
   "cell_type": "code",
   "execution_count": 49,
   "id": "e07ae734-2c9e-4ce3-b3dd-0e210d89f70c",
   "metadata": {},
   "outputs": [
    {
     "data": {
      "text/plain": [
       "array([ 67,  61,  74,  71,  70,  66,  69,  72,  68,  65,  64,  60,  63,\n",
       "        62, 100,  76,  79,  73,  78,  89,  75,  59,  86,  97,  83,  84,\n",
       "        80,  58,  94,  55,  92,  82,  77, 101,  88,  91,  99,  87,  57,\n",
       "        96,  98,  95,  85,  93,  56], dtype=int64)"
      ]
     },
     "execution_count": 49,
     "metadata": {},
     "output_type": "execute_result"
    }
   ],
   "source": [
    "df[\"Exam_Score\"].unique()"
   ]
  },
  {
   "cell_type": "code",
   "execution_count": 50,
   "id": "9e443d35-a1c9-4f39-bb71-7a59cf049601",
   "metadata": {},
   "outputs": [
    {
     "data": {
      "text/plain": [
       "Exam_Score\n",
       "68     759\n",
       "66     751\n",
       "67     717\n",
       "65     679\n",
       "69     624\n",
       "70     542\n",
       "64     501\n",
       "71     408\n",
       "63     371\n",
       "72     304\n",
       "62     264\n",
       "61     171\n",
       "73     141\n",
       "74     106\n",
       "60      77\n",
       "75      48\n",
       "59      40\n",
       "58      22\n",
       "76      16\n",
       "80       5\n",
       "77       5\n",
       "57       4\n",
       "82       4\n",
       "94       4\n",
       "86       4\n",
       "78       4\n",
       "84       3\n",
       "97       3\n",
       "89       3\n",
       "79       3\n",
       "88       3\n",
       "98       3\n",
       "93       2\n",
       "92       2\n",
       "95       2\n",
       "99       2\n",
       "87       2\n",
       "96       1\n",
       "85       1\n",
       "91       1\n",
       "100      1\n",
       "83       1\n",
       "101      1\n",
       "55       1\n",
       "56       1\n",
       "Name: count, dtype: int64"
      ]
     },
     "execution_count": 50,
     "metadata": {},
     "output_type": "execute_result"
    }
   ],
   "source": [
    "df[\"Exam_Score\"].value_counts()"
   ]
  },
  {
   "cell_type": "code",
   "execution_count": 66,
   "id": "12ef9719-1dff-4cd3-9549-2878828b2cdb",
   "metadata": {},
   "outputs": [
    {
     "data": {
      "text/plain": [
       "<Axes: xlabel='Exam_Score', ylabel='Count'>"
      ]
     },
     "execution_count": 66,
     "metadata": {},
     "output_type": "execute_result"
    },
    {
     "data": {
      "image/png": "[encoded data removed]",
      "text/plain": [
       "<Figure size 640x480 with 1 Axes>"
      ]
     },
     "metadata": {},
     "output_type": "display_data"
    }
   ],
   "source": [
    "sns.histplot(data = df, x = \"Exam_Score\" , bins = 20)"
   ]
  },
  {
   "cell_type": "code",
   "execution_count": 67,
   "id": "ec94e15c-1c81-422d-a1fe-bb2d1616e462",
   "metadata": {},
   "outputs": [
    {
     "data": {
      "text/plain": [
       "<Axes: xlabel='Exam_Score'>"
      ]
     },
     "execution_count": 67,
     "metadata": {},
     "output_type": "execute_result"
    },
    {
     "data": {
      "image/png": "[encoded data removed]",
      "text/plain": [
       "<Figure size 640x480 with 1 Axes>"
      ]
     },
     "metadata": {},
     "output_type": "display_data"
    }
   ],
   "source": [
    "sns.boxplot(data = df, x = \"Exam_Score\")"
   ]
  },
  {
   "cell_type": "code",
   "execution_count": 70,
   "id": "951d0923-1e20-4ca0-b4b1-0e8712b7a769",
   "metadata": {},
   "outputs": [
    {
     "data": {
      "text/plain": [
       "1.6448082853982677"
      ]
     },
     "execution_count": 70,
     "metadata": {},
     "output_type": "execute_result"
    }
   ],
   "source": [
    "df[\"Exam_Score\"].skew()"
   ]
  },
  {
   "cell_type": "code",
   "execution_count": 71,
   "id": "33d3be10-5eef-4ae4-9ec1-bf70047abf78",
   "metadata": {},
   "outputs": [],
   "source": [
    "df['Exam_Score_log'] = np.log1p(df['Exam_Score'])"
   ]
  },
  {
   "cell_type": "markdown",
   "id": "a16e2496-4797-42c1-9cee-6aa5360334bd",
   "metadata": {},
   "source": [
    "### *Data Cleaning*"
   ]
  },
  {
   "cell_type": "markdown",
   "id": "ece041e7-84e9-49f7-b806-8943b0b41350",
   "metadata": {},
   "source": [
    "*Droping columns not needed for Data Analysis*"
   ]
  },
  {
   "cell_type": "code",
   "execution_count": 52,
   "id": "266227ff-aba7-4fa4-8a36-2a67d6fd0928",
   "metadata": {},
   "outputs": [
    {
     "data": {
      "text/plain": [
       "Index(['Hours_Studied', 'Attendance', 'Parental_Involvement',\n",
       "       'Access_to_Resources', 'Extracurricular_Activities', 'Sleep_Hours',\n",
       "       'Previous_Scores', 'Motivation_Level', 'Internet_Access',\n",
       "       'Tutoring_Sessions', 'Family_Income', 'Teacher_Quality', 'School_Type',\n",
       "       'Peer_Influence', 'Physical_Activity', 'Learning_Disabilities',\n",
       "       'Parental_Education_Level', 'Distance_from_Home', 'Gender',\n",
       "       'Exam_Score'],\n",
       "      dtype='object')"
      ]
     },
     "execution_count": 52,
     "metadata": {},
     "output_type": "execute_result"
    }
   ],
   "source": [
    "df.columns"
   ]
  },
  {
   "cell_type": "code",
   "execution_count": 54,
   "id": "23ea3000-21ac-4436-bb32-4611883c93c2",
   "metadata": {},
   "outputs": [],
   "source": [
    "columns_to_drop = [\n",
    "    'Extracurricular_Activities',\n",
    "    'Peer_Influence',\n",
    "    'Physical_Activity',\n",
    "    'Distance_from_Home',\n",
    "    'Gender'\n",
    "]\n",
    "\n",
    "df = df.drop(columns=columns_to_drop)"
   ]
  },
  {
   "cell_type": "code",
   "execution_count": 55,
   "id": "d0842eb5-da45-483c-8e11-91e7bf451edd",
   "metadata": {},
   "outputs": [
    {
     "data": {
      "text/plain": [
       "Index(['Hours_Studied', 'Attendance', 'Parental_Involvement',\n",
       "       'Access_to_Resources', 'Sleep_Hours', 'Previous_Scores',\n",
       "       'Motivation_Level', 'Internet_Access', 'Tutoring_Sessions',\n",
       "       'Family_Income', 'Teacher_Quality', 'School_Type',\n",
       "       'Learning_Disabilities', 'Parental_Education_Level', 'Exam_Score'],\n",
       "      dtype='object')"
      ]
     },
     "execution_count": 55,
     "metadata": {},
     "output_type": "execute_result"
    }
   ],
   "source": [
    "df.columns"
   ]
  },
  {
   "cell_type": "markdown",
   "id": "630b5108-fae6-49b3-826e-3eeed1dd3a60",
   "metadata": {},
   "source": [
    "*Check for the missing values*"
   ]
  },
  {
   "cell_type": "code",
   "execution_count": 56,
   "id": "0a3d64d6-20a0-46b3-9949-2f6725df5edc",
   "metadata": {},
   "outputs": [
    {
     "data": {
      "text/plain": [
       "Hours_Studied                0\n",
       "Attendance                   0\n",
       "Parental_Involvement         0\n",
       "Access_to_Resources          0\n",
       "Sleep_Hours                  0\n",
       "Previous_Scores              0\n",
       "Motivation_Level             0\n",
       "Internet_Access              0\n",
       "Tutoring_Sessions            0\n",
       "Family_Income                0\n",
       "Teacher_Quality             78\n",
       "School_Type                  0\n",
       "Learning_Disabilities        0\n",
       "Parental_Education_Level    90\n",
       "Exam_Score                   0\n",
       "dtype: int64"
      ]
     },
     "execution_count": 56,
     "metadata": {},
     "output_type": "execute_result"
    }
   ],
   "source": [
    "df.isna().sum()"
   ]
  },
  {
   "cell_type": "markdown",
   "id": "98364170-4f56-4622-bfd7-931dafc84c9d",
   "metadata": {},
   "source": [
    "*Handling the missing values*"
   ]
  },
  {
   "cell_type": "code",
   "execution_count": 57,
   "id": "d7c86c59-1908-4a6c-8010-9494d189205f",
   "metadata": {},
   "outputs": [
    {
     "data": {
      "text/plain": [
       "array(['Medium', 'High', 'Low', nan], dtype=object)"
      ]
     },
     "execution_count": 57,
     "metadata": {},
     "output_type": "execute_result"
    }
   ],
   "source": [
    "df['Teacher_Quality'].unique()"
   ]
  },
  {
   "cell_type": "markdown",
   "id": "ba93d639-a69d-4f68-af8b-f259778ed5a3",
   "metadata": {},
   "source": [
    "*Since Teacher quality is a categorical column, Mode will work best*"
   ]
  },
  {
   "cell_type": "code",
   "execution_count": 59,
   "id": "14c86518-63f1-437a-b81f-e13fd9cc54f5",
   "metadata": {},
   "outputs": [],
   "source": [
    "df['Teacher_Quality'] = df['Teacher_Quality'].fillna(df['Teacher_Quality'].mode()[0])"
   ]
  },
  {
   "cell_type": "code",
   "execution_count": 60,
   "id": "edef9bef-af81-4963-8899-6606d687301c",
   "metadata": {},
   "outputs": [
    {
     "data": {
      "text/plain": [
       "array(['High School', 'College', 'Postgraduate', nan], dtype=object)"
      ]
     },
     "execution_count": 60,
     "metadata": {},
     "output_type": "execute_result"
    }
   ],
   "source": [
    "df['Parental_Education_Level'].unique()"
   ]
  },
  {
   "cell_type": "markdown",
   "id": "6647cf20-eae9-49fb-8021-0b0bc0cd6288",
   "metadata": {},
   "source": [
    "*Since Parental_Education_Level is a categorical column, Mode will work best*"
   ]
  },
  {
   "cell_type": "code",
   "execution_count": 63,
   "id": "c70e2ac3-e7a2-4a20-8ae1-5053f35e3981",
   "metadata": {},
   "outputs": [],
   "source": [
    "df['Parental_Education_Level'] = df['Parental_Education_Level'].fillna(df['Parental_Education_Level'].mode()[0])"
   ]
  },
  {
   "cell_type": "code",
   "execution_count": 62,
   "id": "364363aa-8453-4835-9cde-02822da01561",
   "metadata": {},
   "outputs": [
    {
     "data": {
      "text/plain": [
       "Hours_Studied               0\n",
       "Attendance                  0\n",
       "Parental_Involvement        0\n",
       "Access_to_Resources         0\n",
       "Sleep_Hours                 0\n",
       "Previous_Scores             0\n",
       "Motivation_Level            0\n",
       "Internet_Access             0\n",
       "Tutoring_Sessions           0\n",
       "Family_Income               0\n",
       "Teacher_Quality             0\n",
       "School_Type                 0\n",
       "Learning_Disabilities       0\n",
       "Parental_Education_Level    0\n",
       "Exam_Score                  0\n",
       "dtype: int64"
      ]
     },
     "execution_count": 62,
     "metadata": {},
     "output_type": "execute_result"
    }
   ],
   "source": [
    "df.isna().sum()"
   ]
  },
  {
   "cell_type": "markdown",
   "id": "0046f09d-5dcb-4fcd-a52f-fe7d85fd1edf",
   "metadata": {},
   "source": [
    "### *Featured Enginerring*"
   ]
  },
  {
   "cell_type": "code",
   "execution_count": 68,
   "id": "9882fde9-c2d5-4023-9210-e8c8ec64a20a",
   "metadata": {},
   "outputs": [],
   "source": [
    "df['Motivation_Hours'] = df['Motivation_Level'] * df['Hours_Studied']"
   ]
  },
  {
   "cell_type": "markdown",
   "id": "2ae62a07-91d5-4277-af12-7aa39f57243d",
   "metadata": {},
   "source": [
    "### *Exploratory Data Analysis*"
   ]
  },
  {
   "cell_type": "markdown",
   "id": "f6e2aef6-f095-4bfd-8f63-6dc5d5aafea2",
   "metadata": {},
   "source": [
    "*Univariate Analysis*"
   ]
  }
 ],
 "metadata": {
  "kernelspec": {
   "display_name": "Python 3 (ipykernel)",
   "language": "python",
   "name": "python3"
  },
  "language_info": {
   "codemirror_mode": {
    "name": "ipython",
    "version": 3
   },
   "file_extension": ".py",
   "mimetype": "text/x-python",
   "name": "python",
   "nbconvert_exporter": "python",
   "pygments_lexer": "ipython3",
   "version": "3.12.7"
  }
 },
 "nbformat": 4,
 "nbformat_minor": 5
}
